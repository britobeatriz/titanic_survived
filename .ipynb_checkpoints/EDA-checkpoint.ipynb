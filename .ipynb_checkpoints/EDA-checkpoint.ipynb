{
 "cells": [
  {
   "cell_type": "code",
   "execution_count": 23,
   "id": "57c877a2",
   "metadata": {},
   "outputs": [],
   "source": [
    "# Libs\n",
    "\n",
    "from sklearn.model_selection import train_test_split\n",
    "from sklearn.tree import DecisionTreeClassifier\n",
    "from sklearn.metrics import accuracy_score\n",
    "import pandas as pd\n",
    "import seaborn as sns\n",
    "\n",
    "import joblib\n",
    "import os"
   ]
  },
  {
   "cell_type": "code",
   "execution_count": 2,
   "id": "6187b79f",
   "metadata": {},
   "outputs": [
    {
     "data": {
      "text/html": [
       "<div>\n",
       "<style scoped>\n",
       "    .dataframe tbody tr th:only-of-type {\n",
       "        vertical-align: middle;\n",
       "    }\n",
       "\n",
       "    .dataframe tbody tr th {\n",
       "        vertical-align: top;\n",
       "    }\n",
       "\n",
       "    .dataframe thead th {\n",
       "        text-align: right;\n",
       "    }\n",
       "</style>\n",
       "<table border=\"1\" class=\"dataframe\">\n",
       "  <thead>\n",
       "    <tr style=\"text-align: right;\">\n",
       "      <th></th>\n",
       "      <th>PassengerId</th>\n",
       "      <th>Survived</th>\n",
       "      <th>Pclass</th>\n",
       "      <th>Name</th>\n",
       "      <th>Sex</th>\n",
       "      <th>Age</th>\n",
       "      <th>SibSp</th>\n",
       "      <th>Parch</th>\n",
       "      <th>Ticket</th>\n",
       "      <th>Fare</th>\n",
       "      <th>Cabin</th>\n",
       "      <th>Embarked</th>\n",
       "    </tr>\n",
       "  </thead>\n",
       "  <tbody>\n",
       "    <tr>\n",
       "      <th>0</th>\n",
       "      <td>1</td>\n",
       "      <td>0</td>\n",
       "      <td>3</td>\n",
       "      <td>Braund, Mr. Owen Harris</td>\n",
       "      <td>male</td>\n",
       "      <td>22.0</td>\n",
       "      <td>1</td>\n",
       "      <td>0</td>\n",
       "      <td>A/5 21171</td>\n",
       "      <td>7.2500</td>\n",
       "      <td>NaN</td>\n",
       "      <td>S</td>\n",
       "    </tr>\n",
       "    <tr>\n",
       "      <th>1</th>\n",
       "      <td>2</td>\n",
       "      <td>1</td>\n",
       "      <td>1</td>\n",
       "      <td>Cumings, Mrs. John Bradley (Florence Briggs Th...</td>\n",
       "      <td>female</td>\n",
       "      <td>38.0</td>\n",
       "      <td>1</td>\n",
       "      <td>0</td>\n",
       "      <td>PC 17599</td>\n",
       "      <td>71.2833</td>\n",
       "      <td>C85</td>\n",
       "      <td>C</td>\n",
       "    </tr>\n",
       "    <tr>\n",
       "      <th>2</th>\n",
       "      <td>3</td>\n",
       "      <td>1</td>\n",
       "      <td>3</td>\n",
       "      <td>Heikkinen, Miss. Laina</td>\n",
       "      <td>female</td>\n",
       "      <td>26.0</td>\n",
       "      <td>0</td>\n",
       "      <td>0</td>\n",
       "      <td>STON/O2. 3101282</td>\n",
       "      <td>7.9250</td>\n",
       "      <td>NaN</td>\n",
       "      <td>S</td>\n",
       "    </tr>\n",
       "    <tr>\n",
       "      <th>3</th>\n",
       "      <td>4</td>\n",
       "      <td>1</td>\n",
       "      <td>1</td>\n",
       "      <td>Futrelle, Mrs. Jacques Heath (Lily May Peel)</td>\n",
       "      <td>female</td>\n",
       "      <td>35.0</td>\n",
       "      <td>1</td>\n",
       "      <td>0</td>\n",
       "      <td>113803</td>\n",
       "      <td>53.1000</td>\n",
       "      <td>C123</td>\n",
       "      <td>S</td>\n",
       "    </tr>\n",
       "    <tr>\n",
       "      <th>4</th>\n",
       "      <td>5</td>\n",
       "      <td>0</td>\n",
       "      <td>3</td>\n",
       "      <td>Allen, Mr. William Henry</td>\n",
       "      <td>male</td>\n",
       "      <td>35.0</td>\n",
       "      <td>0</td>\n",
       "      <td>0</td>\n",
       "      <td>373450</td>\n",
       "      <td>8.0500</td>\n",
       "      <td>NaN</td>\n",
       "      <td>S</td>\n",
       "    </tr>\n",
       "  </tbody>\n",
       "</table>\n",
       "</div>"
      ],
      "text/plain": [
       "   PassengerId  Survived  Pclass  \\\n",
       "0            1         0       3   \n",
       "1            2         1       1   \n",
       "2            3         1       3   \n",
       "3            4         1       1   \n",
       "4            5         0       3   \n",
       "\n",
       "                                                Name     Sex   Age  SibSp  \\\n",
       "0                            Braund, Mr. Owen Harris    male  22.0      1   \n",
       "1  Cumings, Mrs. John Bradley (Florence Briggs Th...  female  38.0      1   \n",
       "2                             Heikkinen, Miss. Laina  female  26.0      0   \n",
       "3       Futrelle, Mrs. Jacques Heath (Lily May Peel)  female  35.0      1   \n",
       "4                           Allen, Mr. William Henry    male  35.0      0   \n",
       "\n",
       "   Parch            Ticket     Fare Cabin Embarked  \n",
       "0      0         A/5 21171   7.2500   NaN        S  \n",
       "1      0          PC 17599  71.2833   C85        C  \n",
       "2      0  STON/O2. 3101282   7.9250   NaN        S  \n",
       "3      0            113803  53.1000  C123        S  \n",
       "4      0            373450   8.0500   NaN        S  "
      ]
     },
     "execution_count": 2,
     "metadata": {},
     "output_type": "execute_result"
    }
   ],
   "source": [
    "# Dataset\n",
    "\n",
    "data = pd.read_csv('train.csv')\n",
    "data.head()"
   ]
  },
  {
   "cell_type": "code",
   "execution_count": 3,
   "id": "9627f877",
   "metadata": {},
   "outputs": [
    {
     "data": {
      "text/plain": [
       "PassengerId      0\n",
       "Survived         0\n",
       "Pclass           0\n",
       "Name             0\n",
       "Sex              0\n",
       "Age            177\n",
       "SibSp            0\n",
       "Parch            0\n",
       "Ticket           0\n",
       "Fare             0\n",
       "Cabin          687\n",
       "Embarked         2\n",
       "dtype: int64"
      ]
     },
     "execution_count": 3,
     "metadata": {},
     "output_type": "execute_result"
    }
   ],
   "source": [
    "# visualizando dados nulos\n",
    "\n",
    "data.isnull().sum()"
   ]
  },
  {
   "cell_type": "code",
   "execution_count": 4,
   "id": "54ea6c8b",
   "metadata": {},
   "outputs": [],
   "source": [
    "# Substituindo dados nulos da coluna 'Embarked' pela moda\n",
    "\n",
    "embarkedIsnull = data['Embarked'].mode()[0]\n",
    "data['Embarked'].fillna(embarkedIsnull, inplace=True)"
   ]
  },
  {
   "cell_type": "code",
   "execution_count": 5,
   "id": "d0ded163",
   "metadata": {},
   "outputs": [
    {
     "data": {
      "text/plain": [
       "PassengerId      0\n",
       "Survived         0\n",
       "Pclass           0\n",
       "Name             0\n",
       "Sex              0\n",
       "Age            177\n",
       "SibSp            0\n",
       "Parch            0\n",
       "Ticket           0\n",
       "Fare             0\n",
       "Cabin          687\n",
       "Embarked         0\n",
       "dtype: int64"
      ]
     },
     "execution_count": 5,
     "metadata": {},
     "output_type": "execute_result"
    }
   ],
   "source": [
    "# Verificando a substituição\n",
    "\n",
    "data.isnull().sum()"
   ]
  },
  {
   "cell_type": "code",
   "execution_count": 6,
   "id": "0099016a",
   "metadata": {},
   "outputs": [
    {
     "data": {
      "text/plain": [
       "0    24.0\n",
       "Name: Age, dtype: float64"
      ]
     },
     "execution_count": 6,
     "metadata": {},
     "output_type": "execute_result"
    }
   ],
   "source": [
    "# Verificando a moda das idades\n",
    "\n",
    "data[\"Age\"].mode()"
   ]
  },
  {
   "cell_type": "code",
   "execution_count": 7,
   "id": "5bdc8a41",
   "metadata": {},
   "outputs": [],
   "source": [
    "# adiciona moda em linhas nulas da coluna \"Age\"\n",
    "\n",
    "age_mode = data[\"Age\"].mode().astype(int)[0]\n",
    "data[\"Age\"].fillna(age_mode, inplace=True)"
   ]
  },
  {
   "cell_type": "code",
   "execution_count": 8,
   "id": "e66ee27c",
   "metadata": {},
   "outputs": [
    {
     "data": {
      "text/plain": [
       "PassengerId      0\n",
       "Survived         0\n",
       "Pclass           0\n",
       "Name             0\n",
       "Sex              0\n",
       "Age              0\n",
       "SibSp            0\n",
       "Parch            0\n",
       "Ticket           0\n",
       "Fare             0\n",
       "Cabin          687\n",
       "Embarked         0\n",
       "dtype: int64"
      ]
     },
     "execution_count": 8,
     "metadata": {},
     "output_type": "execute_result"
    }
   ],
   "source": [
    "data.isnull().sum()"
   ]
  },
  {
   "cell_type": "code",
   "execution_count": 9,
   "id": "7f9ed9b0",
   "metadata": {},
   "outputs": [],
   "source": [
    "# removendo a coluna 'Cabin'\n",
    "\n",
    "data.drop('Cabin', inplace=True, axis=1)"
   ]
  },
  {
   "cell_type": "code",
   "execution_count": 10,
   "id": "ad0ffbcb",
   "metadata": {},
   "outputs": [
    {
     "data": {
      "text/plain": [
       "male      577\n",
       "female    314\n",
       "Name: Sex, dtype: int64"
      ]
     },
     "execution_count": 10,
     "metadata": {},
     "output_type": "execute_result"
    }
   ],
   "source": [
    "# quantidade de homens e mulheres\n",
    "\n",
    "data[\"Sex\"].value_counts()"
   ]
  },
  {
   "cell_type": "code",
   "execution_count": 11,
   "id": "9e67ee21",
   "metadata": {},
   "outputs": [
    {
     "name": "stdout",
     "output_type": "stream",
     "text": [
      "Quantidade total de sobreviventes: 342\n"
     ]
    }
   ],
   "source": [
    "survived = data['Survived'].sum()\n",
    "print(f'Quantidade total de sobreviventes: {survived}')"
   ]
  },
  {
   "cell_type": "code",
   "execution_count": 12,
   "id": "8c8636c7",
   "metadata": {},
   "outputs": [
    {
     "name": "stdout",
     "output_type": "stream",
     "text": [
      "Quantidade total de passageiro: 891\n"
     ]
    }
   ],
   "source": [
    "totalPas = len(data['PassengerId'])\n",
    "print(f'Quantidade total de passageiro: {totalPas}')"
   ]
  },
  {
   "cell_type": "code",
   "execution_count": 13,
   "id": "a96044e4",
   "metadata": {},
   "outputs": [
    {
     "name": "stdout",
     "output_type": "stream",
     "text": [
      "Porcentagem de passsageiros por sexo: \n",
      "Sex\n",
      "female    35.241302\n",
      "male      64.758698\n",
      "Name: PassengerId, dtype: float64\n"
     ]
    }
   ],
   "source": [
    "# porcentagem de passageiros por sexo\n",
    "\n",
    "totalSex = data.groupby('Sex')['PassengerId'].count()\n",
    "pSex = (totalSex / totalPas) * 100\n",
    "print('Porcentagem de passsageiros por sexo: ')\n",
    "print(pSex)"
   ]
  },
  {
   "cell_type": "code",
   "execution_count": 14,
   "id": "00b56e53",
   "metadata": {},
   "outputs": [
    {
     "name": "stdout",
     "output_type": "stream",
     "text": [
      "A porcentagem de sobreviventes é: 38%\n"
     ]
    }
   ],
   "source": [
    "pSurvived = (survived / totalPas) * 100\n",
    "print(f'A porcentagem de sobreviventes é: {pSurvived:.0f}%')"
   ]
  },
  {
   "cell_type": "code",
   "execution_count": 15,
   "id": "6d8e16f6",
   "metadata": {},
   "outputs": [
    {
     "name": "stdout",
     "output_type": "stream",
     "text": [
      "Porcentagem de sobreviventes por sexo: \n",
      "Sex\n",
      "female    74.203822\n",
      "male      18.890815\n",
      "Name: Survived, dtype: float64\n"
     ]
    }
   ],
   "source": [
    "# porcentagem de sobreviventes por sexo\n",
    "\n",
    "sSex = data.groupby('Sex')['Survived'].sum()\n",
    "totalSex = data.groupby('Sex')['Survived'].count()\n",
    "pSurSex = (sSex / totalSex) * 100\n",
    "print('Porcentagem de sobreviventes por sexo: ')\n",
    "print(pSurSex)"
   ]
  },
  {
   "cell_type": "code",
   "execution_count": 16,
   "id": "be046060",
   "metadata": {},
   "outputs": [
    {
     "data": {
      "text/html": [
       "<div>\n",
       "<style scoped>\n",
       "    .dataframe tbody tr th:only-of-type {\n",
       "        vertical-align: middle;\n",
       "    }\n",
       "\n",
       "    .dataframe tbody tr th {\n",
       "        vertical-align: top;\n",
       "    }\n",
       "\n",
       "    .dataframe thead th {\n",
       "        text-align: right;\n",
       "    }\n",
       "</style>\n",
       "<table border=\"1\" class=\"dataframe\">\n",
       "  <thead>\n",
       "    <tr style=\"text-align: right;\">\n",
       "      <th>Sex</th>\n",
       "      <th>female</th>\n",
       "      <th>male</th>\n",
       "      <th>All</th>\n",
       "    </tr>\n",
       "    <tr>\n",
       "      <th>Survived</th>\n",
       "      <th></th>\n",
       "      <th></th>\n",
       "      <th></th>\n",
       "    </tr>\n",
       "  </thead>\n",
       "  <tbody>\n",
       "    <tr>\n",
       "      <th>0</th>\n",
       "      <td>81</td>\n",
       "      <td>468</td>\n",
       "      <td>549</td>\n",
       "    </tr>\n",
       "    <tr>\n",
       "      <th>1</th>\n",
       "      <td>233</td>\n",
       "      <td>109</td>\n",
       "      <td>342</td>\n",
       "    </tr>\n",
       "    <tr>\n",
       "      <th>All</th>\n",
       "      <td>314</td>\n",
       "      <td>577</td>\n",
       "      <td>891</td>\n",
       "    </tr>\n",
       "  </tbody>\n",
       "</table>\n",
       "</div>"
      ],
      "text/plain": [
       "Sex       female  male  All\n",
       "Survived                   \n",
       "0             81   468  549\n",
       "1            233   109  342\n",
       "All          314   577  891"
      ]
     },
     "execution_count": 16,
     "metadata": {},
     "output_type": "execute_result"
    }
   ],
   "source": [
    "# qtd de sobreviventes por sexo\n",
    "\n",
    "pd.crosstab(data[\"Survived\"], data[\"Sex\"], margins=True)"
   ]
  },
  {
   "cell_type": "code",
   "execution_count": 17,
   "id": "226ae1d4",
   "metadata": {},
   "outputs": [],
   "source": [
    "# Atribuindo 0 para 'male' e 1 para 'female'\n",
    "\n",
    "data['Sex'] = data[\"Sex\"].map({'male':0,'female':1})"
   ]
  },
  {
   "cell_type": "code",
   "execution_count": 18,
   "id": "50d2abd6",
   "metadata": {},
   "outputs": [
    {
     "data": {
      "text/plain": [
       "<AxesSubplot:>"
      ]
     },
     "execution_count": 18,
     "metadata": {},
     "output_type": "execute_result"
    },
    {
     "data": {
      "image/png": "[encoded data removed]",
      "text/plain": [
       "<Figure size 640x480 with 2 Axes>"
      ]
     },
     "metadata": {},
     "output_type": "display_data"
    }
   ],
   "source": [
    "# correlação entre a idade, classe, sobrevivencia e sexo\n",
    "\n",
    "sns.heatmap(data[['Pclass','Age','Survived','Sex']].corr(), cmap='Blues', annot=True)"
   ]
  },
  {
   "cell_type": "code",
   "execution_count": 19,
   "id": "9b88adcd",
   "metadata": {},
   "outputs": [
    {
     "data": {
      "text/html": [
       "<style type=\"text/css\">\n",
       "#T_d15a3_row0_col0, #T_d15a3_row1_col1, #T_d15a3_row1_col2, #T_d15a3_row1_col3 {\n",
       "  background-color: #f7fbff;\n",
       "  color: #000000;\n",
       "}\n",
       "#T_d15a3_row0_col1 {\n",
       "  background-color: #e3eef8;\n",
       "  color: #000000;\n",
       "}\n",
       "#T_d15a3_row0_col2 {\n",
       "  background-color: #3383be;\n",
       "  color: #f1f1f1;\n",
       "}\n",
       "#T_d15a3_row0_col3 {\n",
       "  background-color: #9dcae1;\n",
       "  color: #000000;\n",
       "}\n",
       "#T_d15a3_row1_col0 {\n",
       "  background-color: #8fc2de;\n",
       "  color: #000000;\n",
       "}\n",
       "#T_d15a3_row2_col0, #T_d15a3_row2_col1, #T_d15a3_row2_col2, #T_d15a3_row2_col3 {\n",
       "  background-color: #08306b;\n",
       "  color: #f1f1f1;\n",
       "}\n",
       "</style>\n",
       "<table id=\"T_d15a3\">\n",
       "  <thead>\n",
       "    <tr>\n",
       "      <th class=\"index_name level0\" >Pclass</th>\n",
       "      <th id=\"T_d15a3_level0_col0\" class=\"col_heading level0 col0\" >1</th>\n",
       "      <th id=\"T_d15a3_level0_col1\" class=\"col_heading level0 col1\" >2</th>\n",
       "      <th id=\"T_d15a3_level0_col2\" class=\"col_heading level0 col2\" >3</th>\n",
       "      <th id=\"T_d15a3_level0_col3\" class=\"col_heading level0 col3\" >All</th>\n",
       "    </tr>\n",
       "    <tr>\n",
       "      <th class=\"index_name level0\" >Survived</th>\n",
       "      <th class=\"blank col0\" >&nbsp;</th>\n",
       "      <th class=\"blank col1\" >&nbsp;</th>\n",
       "      <th class=\"blank col2\" >&nbsp;</th>\n",
       "      <th class=\"blank col3\" >&nbsp;</th>\n",
       "    </tr>\n",
       "  </thead>\n",
       "  <tbody>\n",
       "    <tr>\n",
       "      <th id=\"T_d15a3_level0_row0\" class=\"row_heading level0 row0\" >0</th>\n",
       "      <td id=\"T_d15a3_row0_col0\" class=\"data row0 col0\" >80</td>\n",
       "      <td id=\"T_d15a3_row0_col1\" class=\"data row0 col1\" >97</td>\n",
       "      <td id=\"T_d15a3_row0_col2\" class=\"data row0 col2\" >372</td>\n",
       "      <td id=\"T_d15a3_row0_col3\" class=\"data row0 col3\" >549</td>\n",
       "    </tr>\n",
       "    <tr>\n",
       "      <th id=\"T_d15a3_level0_row1\" class=\"row_heading level0 row1\" >1</th>\n",
       "      <td id=\"T_d15a3_row1_col0\" class=\"data row1 col0\" >136</td>\n",
       "      <td id=\"T_d15a3_row1_col1\" class=\"data row1 col1\" >87</td>\n",
       "      <td id=\"T_d15a3_row1_col2\" class=\"data row1 col2\" >119</td>\n",
       "      <td id=\"T_d15a3_row1_col3\" class=\"data row1 col3\" >342</td>\n",
       "    </tr>\n",
       "    <tr>\n",
       "      <th id=\"T_d15a3_level0_row2\" class=\"row_heading level0 row2\" >All</th>\n",
       "      <td id=\"T_d15a3_row2_col0\" class=\"data row2 col0\" >216</td>\n",
       "      <td id=\"T_d15a3_row2_col1\" class=\"data row2 col1\" >184</td>\n",
       "      <td id=\"T_d15a3_row2_col2\" class=\"data row2 col2\" >491</td>\n",
       "      <td id=\"T_d15a3_row2_col3\" class=\"data row2 col3\" >891</td>\n",
       "    </tr>\n",
       "  </tbody>\n",
       "</table>\n"
      ],
      "text/plain": [
       "<pandas.io.formats.style.Styler at 0x1d929509670>"
      ]
     },
     "execution_count": 19,
     "metadata": {},
     "output_type": "execute_result"
    }
   ],
   "source": [
    "# Sobreviventes por Classe\n",
    "\n",
    "pd.crosstab(data['Survived'], data['Pclass'], margins=True).style.background_gradient(cmap='Blues') # colocando estilo"
   ]
  },
  {
   "cell_type": "code",
   "execution_count": 20,
   "id": "2f43ae3c",
   "metadata": {},
   "outputs": [
    {
     "data": {
      "text/plain": [
       "28.098712446351932"
      ]
     },
     "execution_count": 20,
     "metadata": {},
     "output_type": "execute_result"
    }
   ],
   "source": [
    "# media das idades das mulheres que sobreviveram\n",
    "\n",
    "mean_female_survived = data[['Age','Survived','Sex']].loc[(data['Survived']== 1) & (data['Sex']==1)].mean()\n",
    "mean_female_survived[0]"
   ]
  },
  {
   "cell_type": "markdown",
   "id": "cc68f9f8",
   "metadata": {},
   "source": [
    "### Algumas conclusões\n",
    "\n",
    "- o dataset possui um total de 891 passageiros,\n",
    "- a quantidade total de sobreviventes é 342 passageiros que equivale a 38%,\n",
    "- 65% dos passageiros são homens, ou seja, havia mais homens do que mulheres,\n",
    "- 74% dos sobreviventes são mulheres,\n",
    "- há uma alta correlação entre o sexo das pessoas e a Sobrevivencia,\n",
    "- há uma correlação de 0.34 negativa nas variaveis Pclass e Survived,\n",
    "- a classe que mais pessoas sobreviveram foi a classe 1,\n",
    "- a média das idades das mulheres que sobreviveram é de 28 anos,\n",
    "- a moda da idade dos passegeiros é 24 anos."
   ]
  },
  {
   "cell_type": "markdown",
   "id": "4251649b",
   "metadata": {},
   "source": [
    "### Gerando o modelo"
   ]
  },
  {
   "cell_type": "code",
   "execution_count": 24,
   "id": "113dd787",
   "metadata": {},
   "outputs": [],
   "source": [
    "# atribui 0 para masculino e 1 para feminino\n",
    "\n",
    "X = data[[\"Sex\",\"Age\",\"Pclass\"]].copy()\n",
    "y = data[\"Survived\"]\n",
    "\n",
    "X[\"Sex\"] =X[\"Sex\"].map({\"male\":0, \"female\":1})\n",
    "X = X.fillna(-1)"
   ]
  },
  {
   "cell_type": "code",
   "execution_count": 25,
   "id": "7b0c0281",
   "metadata": {},
   "outputs": [],
   "source": [
    "# separa a base de teste 40%\n",
    "\n",
    "X_train, X_test, y_train, y_test = train_test_split(\n",
    "    X, y, test_size=0.40, random_state=42)"
   ]
  },
  {
   "cell_type": "code",
   "execution_count": 26,
   "id": "65056aaf",
   "metadata": {},
   "outputs": [
    {
     "data": {
      "text/plain": [
       "DecisionTreeClassifier(min_samples_leaf=8, random_state=0)"
      ]
     },
     "execution_count": 26,
     "metadata": {},
     "output_type": "execute_result"
    }
   ],
   "source": [
    "# gera o modelo DecisionTree\n",
    "\n",
    "mdl = DecisionTreeClassifier(random_state=0, min_samples_leaf=8)\n",
    "mdl.fit(X_train, y_train)"
   ]
  },
  {
   "cell_type": "code",
   "execution_count": 28,
   "id": "8c545ee8",
   "metadata": {},
   "outputs": [
    {
     "data": {
      "text/plain": [
       "0.6890756302521008"
      ]
     },
     "execution_count": 28,
     "metadata": {},
     "output_type": "execute_result"
    }
   ],
   "source": [
    "# acuracia\n",
    "\n",
    "p = mdl.predict(X_test)\n",
    "accuracy_score(y_test, p)"
   ]
  },
  {
   "cell_type": "code",
   "execution_count": 39,
   "id": "b2f49b0c",
   "metadata": {},
   "outputs": [],
   "source": [
    "# testando o modelo\n",
    "# dt_Test = pd.DataFrame({\n",
    "#     \"Sex\":[1],\n",
    "#     \"Age\":40,\n",
    "#     \"Pclass\": [1]\n",
    "# })\n",
    "# mdl.predict(dt_Test)"
   ]
  },
  {
   "cell_type": "code",
   "execution_count": 40,
   "id": "35222083",
   "metadata": {},
   "outputs": [
    {
     "data": {
      "text/plain": [
       "['model.pk1']"
      ]
     },
     "execution_count": 40,
     "metadata": {},
     "output_type": "execute_result"
    }
   ],
   "source": [
    "# especificando o local que será salvo\n",
    "\n",
    "mdl.fit(X,y)\n",
    "joblib.dump(mdl, os.path.join(\"model.pk1\"))"
   ]
  }
 ],
 "metadata": {
  "kernelspec": {
   "display_name": "Python 3 (ipykernel)",
   "language": "python",
   "name": "python3"
  },
  "language_info": {
   "codemirror_mode": {
    "name": "ipython",
    "version": 3
   },
   "file_extension": ".py",
   "mimetype": "text/x-python",
   "name": "python",
   "nbconvert_exporter": "python",
   "pygments_lexer": "ipython3",
   "version": "3.9.13"
  }
 },
 "nbformat": 4,
 "nbformat_minor": 5
}
